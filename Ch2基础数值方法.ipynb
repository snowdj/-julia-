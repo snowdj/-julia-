{
 "cells": [
  {
   "cell_type": "markdown",
   "metadata": {},
   "source": [
    "# <center>第二章 基础数值计算方法</center>\n",
    "### <center>许文立</center>\n",
    "### <center>SFU/AHU/CIMERS/国民经济工程实验室(北京)</center>\n",
    "## 2.1 概要\n",
    "\n",
    "* 了解计算经济学中基础的一些数值计算技术\n",
    "* 掌握数值计算在Julia中的应用\n",
    "\n",
    "## 2.2 线性代数回顾\n",
    "定义一个线性方程：n个未知数，n个系数\n",
    "$$a_1 x_1 +a_2 x_2 +……+a_n x_n =b$$\n",
    "所有变量都是一次，且没有非线性函数。多个线性方程组成的系统就是线性方程组：一种紧凑的方式表达线性方程组：\n",
    "$$Ax=b$$\n",
    "其中，A是一个$n \\times n$的系数矩阵，元素为$a_{i,j}$，b为n维向量，x为n为向量。\n",
    "\n",
    "两类解法：\n",
    "* 直接方法\n",
    "* 迭代方法\n"
   ]
  },
  {
   "cell_type": "code",
   "execution_count": 1,
   "metadata": {},
   "outputs": [
    {
     "data": {
      "text/plain": [
       "3×3 Array{Int64,2}:\n",
       " 1  2  3\n",
       " 0  3  1\n",
       " 1  4  2"
      ]
     },
     "execution_count": 1,
     "metadata": {},
     "output_type": "execute_result"
    }
   ],
   "source": [
    "A=[1 2 3;0 3 1;1 4 2]"
   ]
  },
  {
   "cell_type": "code",
   "execution_count": 4,
   "metadata": {},
   "outputs": [
    {
     "data": {
      "text/plain": [
       "LU{Float64,Array{Float64,2}}\n",
       "L factor:\n",
       "3×3 Array{Float64,2}:\n",
       " 1.0  0.0       0.0\n",
       " 0.0  1.0       0.0\n",
       " 1.0  0.666667  1.0\n",
       "U factor:\n",
       "3×3 Array{Float64,2}:\n",
       " 1.0  2.0   3.0\n",
       " 0.0  3.0   1.0\n",
       " 0.0  0.0  -1.66667"
      ]
     },
     "execution_count": 4,
     "metadata": {},
     "output_type": "execute_result"
    }
   ],
   "source": [
    "using LinearAlgebra\n",
    "f=factorize(A)"
   ]
  },
  {
   "cell_type": "code",
   "execution_count": 6,
   "metadata": {},
   "outputs": [
    {
     "data": {
      "text/plain": [
       "3×3 Array{Float64,2}:\n",
       " 1.0  0.0       0.0\n",
       " 0.0  1.0       0.0\n",
       " 1.0  0.666667  1.0"
      ]
     },
     "execution_count": 6,
     "metadata": {},
     "output_type": "execute_result"
    }
   ],
   "source": [
    "L=f.L"
   ]
  },
  {
   "cell_type": "code",
   "execution_count": 7,
   "metadata": {},
   "outputs": [
    {
     "data": {
      "text/plain": [
       "3×3 Array{Float64,2}:\n",
       " 1.0  2.0   3.0\n",
       " 0.0  3.0   1.0\n",
       " 0.0  0.0  -1.66667"
      ]
     },
     "execution_count": 7,
     "metadata": {},
     "output_type": "execute_result"
    }
   ],
   "source": [
    "U=f.U"
   ]
  },
  {
   "cell_type": "code",
   "execution_count": 8,
   "metadata": {},
   "outputs": [
    {
     "data": {
      "text/plain": [
       "3-element Array{Int64,1}:\n",
       " 1\n",
       " 2\n",
       " 3"
      ]
     },
     "execution_count": 8,
     "metadata": {},
     "output_type": "execute_result"
    }
   ],
   "source": [
    "b=[1,2,3]"
   ]
  },
  {
   "cell_type": "code",
   "execution_count": 10,
   "metadata": {},
   "outputs": [
    {
     "data": {
      "text/plain": [
       "3-element Array{Float64,1}:\n",
       "  0.6000000000000003\n",
       "  0.7999999999999999\n",
       " -0.4000000000000001"
      ]
     },
     "execution_count": 10,
     "metadata": {},
     "output_type": "execute_result"
    }
   ],
   "source": [
    "\\(A,b)"
   ]
  },
  {
   "cell_type": "markdown",
   "metadata": {},
   "source": []
  },
  {
   "cell_type": "code",
   "execution_count": 11,
   "metadata": {},
   "outputs": [
    {
     "data": {
      "text/plain": [
       "3-element Array{Float64,1}:\n",
       " 1.0000011034417895\n",
       " 1.9999995714315693\n",
       " 2.9999998054451513"
      ]
     },
     "execution_count": 11,
     "metadata": {},
     "output_type": "execute_result"
    }
   ],
   "source": [
    "A=[4. 1. -1.;2. 7. 1.;1. -3. 12.];\n",
    "d=Diagonal(A);\n",
    "x=[1.,1.,1.];\n",
    "b=[3.,19.,31.];\n",
    "maxit=1000;\n",
    "dx=[0.,0.,0.];\n",
    "\n",
    "d=zeros(size(A,1));\n",
    "diag=Diagonal(A);\n",
    "\n",
    "for iii=1:size(A,1);\n",
    "    d[iii]=diag[iii,iii]\n",
    "end\n",
    "\n",
    "for i=1:maxit\n",
    "    dx=(b-A*x)./d\n",
    "    x=x+dx\n",
    "    if norm(dx)<0.00001\n",
    "        break\n",
    "    end\n",
    "end\n",
    "x"
   ]
  },
  {
   "cell_type": "code",
   "execution_count": null,
   "metadata": {},
   "outputs": [],
   "source": []
  }
 ],
 "metadata": {
  "kernelspec": {
   "display_name": "Julia 1.5.3",
   "language": "julia",
   "name": "julia-1.5"
  },
  "language_info": {
   "file_extension": ".jl",
   "mimetype": "application/julia",
   "name": "julia",
   "version": "1.5.3"
  }
 },
 "nbformat": 4,
 "nbformat_minor": 4
}
