{
 "cells": [
  {
   "cell_type": "markdown",
   "metadata": {},
   "source": [
    "# <center>第二章 基础数值计算方法</center>\n",
    "### <center>许文立</center>\n",
    "### <center>SFU/AHU/CIMERS/国民经济工程实验室(北京)</center>\n",
    "## 2.1 概要\n",
    "\n",
    "* 了解计算经济学中基础的一些数值计算技术\n",
    "* 掌握数值计算在Julia中的应用\n",
    "\n",
    "## 2.2 线性代数回顾\n",
    "定义一个线性方程：n个未知数，n个系数\n",
    "$$a_1 x_1 +a_2 x_2 +……+a_n x_n =b$$\n",
    "所有变量都是一次，且没有非线性函数。多个线性方程组成的系统就是线性方程组：一种紧凑的方式表达线性方程组：\n",
    "$$Ax=b$$\n",
    "其中，A是一个$n \\times n$的系数矩阵，元素为$a_{i,j}$，b为n维向量，x为n为向量。\n",
    "\n",
    "两类解法：\n",
    "* 直接方法\n",
    "* 迭代方法\n"
   ]
  },
  {
   "cell_type": "code",
   "execution_count": null,
   "metadata": {},
   "outputs": [],
   "source": []
  }
 ],
 "metadata": {
  "kernelspec": {
   "display_name": "Julia 1.5.3",
   "language": "julia",
   "name": "julia-1.5"
  },
  "language_info": {
   "file_extension": ".jl",
   "mimetype": "application/julia",
   "name": "julia",
   "version": "1.5.3"
  }
 },
 "nbformat": 4,
 "nbformat_minor": 4
}
